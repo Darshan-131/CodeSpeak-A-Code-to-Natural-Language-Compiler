{
  "nbformat": 4,
  "nbformat_minor": 0,
  "metadata": {
    "colab": {
      "provenance": []
    },
    "kernelspec": {
      "name": "python3",
      "display_name": "Python 3"
    },
    "language_info": {
      "name": "python"
    }
  },
  "cells": [
    {
      "cell_type": "code",
      "source": [
        "import ast"
      ],
      "metadata": {
        "id": "NUZQLdVJwYyx"
      },
      "execution_count": null,
      "outputs": []
    },
    {
      "cell_type": "code",
      "execution_count": null,
      "metadata": {
        "id": "h7dlvWC4i6px"
      },
      "outputs": [],
      "source": [
        "\n",
        "\n",
        "class CodeExplainer(ast.NodeVisitor):\n",
        "    def __init__(self):\n",
        "        self.explanations = []\n",
        "\n",
        "    def visit_Assign(self, node):\n",
        "        targets = [ast.unparse(t) for t in node.targets]\n",
        "        value = ast.unparse(node.value)\n",
        "        self.explanations.append(f\"Assigns {value} to {', '.join(targets)}.\")\n",
        "        self.generic_visit(node)\n",
        "\n",
        "    def visit_FunctionDef(self, node):\n",
        "        args = [arg.arg for arg in node.args.args]\n",
        "        self.explanations.append(f\"Defines a function '{node.name}' that takes arguments: {', '.join(args)}.\")\n",
        "        self.generic_visit(node)\n",
        "\n",
        "    def visit_If(self, node):\n",
        "        test = ast.unparse(node.test)\n",
        "        self.explanations.append(f\"Checks the condition: '{test}'.\")\n",
        "        for stmt in node.body:\n",
        "            self.visit(stmt)\n",
        "        if node.orelse:\n",
        "            self.explanations.append(\"Executes the else block if the condition is False.\")\n",
        "            for stmt in node.orelse:\n",
        "                self.visit(stmt)\n",
        "\n",
        "    def visit_For(self, node):\n",
        "        target = ast.unparse(node.target)\n",
        "        iter_ = ast.unparse(node.iter)\n",
        "        self.explanations.append(f\"Loops over '{iter_}' using variable '{target}'.\")\n",
        "        self.generic_visit(node)\n",
        "\n",
        "    def visit_While(self, node):\n",
        "        test = ast.unparse(node.test)\n",
        "        self.explanations.append(f\"Runs a while loop with condition: '{test}'.\")\n",
        "        self.generic_visit(node)\n",
        "\n",
        "    def visit_Expr(self, node):\n",
        "        if isinstance(node.value, ast.Call):\n",
        "            call_expr = ast.unparse(node.value)\n",
        "            self.explanations.append(f\"Executes a function call: '{call_expr}'.\")\n",
        "        self.generic_visit(node)\n",
        "\n",
        "    def visit_Return(self, node):\n",
        "        value = ast.unparse(node.value) if node.value else 'nothing'\n",
        "        self.explanations.append(f\"Returns {value}.\")\n",
        "        self.generic_visit(node)\n",
        "\n",
        "    def explain(self, code):\n",
        "        tree = ast.parse(code)\n",
        "        self.visit(tree)\n",
        "        return self.explanations\n",
        "\n"
      ]
    },
    {
      "cell_type": "code",
      "source": [
        "if __name__ == \"__main__\":\n",
        "    print(\"🧠 Code Explainer - AST Based\")\n",
        "\n",
        "    user_code = '''\n",
        "def is_palindrome(text):\n",
        "    cleaned = text.replace(\" \", \"\").lower()\n",
        "    return cleaned == cleaned[::-1]\n",
        "\n",
        "word = input(\"Enter a word: \")\n",
        "if is_palindrome(word):\n",
        "    print(\"It's a palindrome!\")\n",
        "else:\n",
        "    print(\"Not a palindrome.\")\n",
        "\n",
        "'''\n",
        "\n",
        "    explainer = CodeExplainer()\n",
        "    output = explainer.explain(user_code)\n",
        "\n",
        "    print(\"\\n🔍 Explanation:\\n\")\n",
        "    for i, line in enumerate(output, 1):\n",
        "        print(f\"{i}. {line}\")"
      ],
      "metadata": {
        "colab": {
          "base_uri": "https://localhost:8080/"
        },
        "id": "xZ6-UU-hwnJG",
        "outputId": "ef5b1a88-c32d-4d64-d1f9-5e66f4397ce0"
      },
      "execution_count": null,
      "outputs": [
        {
          "output_type": "stream",
          "name": "stdout",
          "text": [
            "🧠 Code Explainer - AST Based\n",
            "\n",
            "🔍 Explanation:\n",
            "\n",
            "1. Defines a function 'is_palindrome' that takes arguments: text.\n",
            "2. Assigns text.replace(' ', '').lower() to cleaned.\n",
            "3. Returns cleaned == cleaned[::-1].\n",
            "4. Assigns input('Enter a word: ') to word.\n",
            "5. Checks the condition: 'is_palindrome(word)'.\n",
            "6. Executes a function call: 'print(\"It's a palindrome!\")'.\n",
            "7. Executes the else block if the condition is False.\n",
            "8. Executes a function call: 'print('Not a palindrome.')'.\n"
          ]
        }
      ]
    },
    {
      "cell_type": "code",
      "source": [
        "cod1='''\n",
        "from datetime import datetime\n",
        "\n",
        "now = datetime.now()\n",
        "print(\"Current Date & Time:\", now.strftime(\"%Y-%m-%d %H:%M:%S\"))\n",
        "\n",
        "'''\n",
        "explainer = CodeExplainer()\n",
        "output = explainer.explain(cod1)\n",
        "\n",
        "print(\"\\n🔍 Explanation:\\n\")\n",
        "for i, line in enumerate(output, 1):\n",
        "    print(f\"{i}. {line}\")\n"
      ],
      "metadata": {
        "colab": {
          "base_uri": "https://localhost:8080/"
        },
        "id": "SmFkJ77SjJ7o",
        "outputId": "9d4951c0-efba-4069-d6c3-29ec2b979dec"
      },
      "execution_count": null,
      "outputs": [
        {
          "output_type": "stream",
          "name": "stdout",
          "text": [
            "\n",
            "🔍 Explanation:\n",
            "\n",
            "1. Assigns datetime.now() to now.\n",
            "2. Executes a function call: 'print('Current Date & Time:', now.strftime('%Y-%m-%d %H:%M:%S'))'.\n"
          ]
        }
      ]
    },
    {
      "cell_type": "code",
      "source": [
        "cod2='''\n",
        "def chatbot():\n",
        "    print(\"Hi! I'm ChatBot. Type 'bye' to exit.\")\n",
        "    while True:\n",
        "        user = input(\"You: \")\n",
        "        if user.lower() == 'bye':\n",
        "            print(\"ChatBot: See ya!\")\n",
        "            break\n",
        "        elif \"name\" in user.lower():\n",
        "            print(\"ChatBot: I'm PythonBot.\")\n",
        "        elif \"how are you\" in user.lower():\n",
        "            print(\"ChatBot: I'm chilling, thanks for asking!\")\n",
        "        else:\n",
        "            print(\"ChatBot: That's interesting.\")\n",
        "\n",
        "chatbot()\n",
        "\n",
        "\n",
        "'''\n",
        "explainer = CodeExplainer()\n",
        "output = explainer.explain(cod2)\n",
        "\n",
        "print(\"\\n🔍 Explanation:\\n\")\n",
        "for i, line in enumerate(output, 1):\n",
        "    print(f\"{i}. {line}\")\n"
      ],
      "metadata": {
        "colab": {
          "base_uri": "https://localhost:8080/"
        },
        "id": "vryq_befuYjG",
        "outputId": "f120f07b-e41b-4ed4-a5a8-fa5fc1f230ce"
      },
      "execution_count": null,
      "outputs": [
        {
          "output_type": "stream",
          "name": "stdout",
          "text": [
            "\n",
            "🔍 Explanation:\n",
            "\n",
            "1. Defines a function 'chatbot' that takes arguments: .\n",
            "2. Executes a function call: 'print(\"Hi! I'm ChatBot. Type 'bye' to exit.\")'.\n",
            "3. Runs a while loop with condition: 'True'.\n",
            "4. Assigns input('You: ') to user.\n",
            "5. Checks the condition: 'user.lower() == 'bye''.\n",
            "6. Executes a function call: 'print('ChatBot: See ya!')'.\n",
            "7. Executes the else block if the condition is False.\n",
            "8. Checks the condition: ''name' in user.lower()'.\n",
            "9. Executes a function call: 'print(\"ChatBot: I'm PythonBot.\")'.\n",
            "10. Executes the else block if the condition is False.\n",
            "11. Checks the condition: ''how are you' in user.lower()'.\n",
            "12. Executes a function call: 'print(\"ChatBot: I'm chilling, thanks for asking!\")'.\n",
            "13. Executes the else block if the condition is False.\n",
            "14. Executes a function call: 'print(\"ChatBot: That's interesting.\")'.\n",
            "15. Executes a function call: 'chatbot()'.\n"
          ]
        }
      ]
    },
    {
      "cell_type": "code",
      "source": [
        "cod2='''\n",
        "def is_prime(n):\n",
        "    if n <= 1:\n",
        "        return False\n",
        "    for i in range(2, int(n**0.5)+1):\n",
        "        if n % i == 0:\n",
        "            return False\n",
        "    return True\n",
        "\n",
        "num = int(input(\"Enter a number: \"))\n",
        "print(\"Prime!\" if is_prime(num) else \"Not Prime.\")\n",
        "\n",
        "\n",
        "'''\n",
        "explainer = CodeExplainer()\n",
        "output = explainer.explain(cod2)\n",
        "\n",
        "print(\"\\n🔍 Explanation:\\n\")\n",
        "for i, line in enumerate(output, 1):\n",
        "    print(f\"{i}. {line}\")\n"
      ],
      "metadata": {
        "colab": {
          "base_uri": "https://localhost:8080/"
        },
        "id": "1mc1Zjkbuict",
        "outputId": "e115237d-a4b6-43f4-849f-0ac2a9e81e19"
      },
      "execution_count": null,
      "outputs": [
        {
          "output_type": "stream",
          "name": "stdout",
          "text": [
            "\n",
            "🔍 Explanation:\n",
            "\n",
            "1. Defines a function 'is_prime' that takes arguments: n.\n",
            "2. Checks the condition: 'n <= 1'.\n",
            "3. Returns False.\n",
            "4. Loops over 'range(2, int(n ** 0.5) + 1)' using variable 'i'.\n",
            "5. Checks the condition: 'n % i == 0'.\n",
            "6. Returns False.\n",
            "7. Returns True.\n",
            "8. Assigns int(input('Enter a number: ')) to num.\n",
            "9. Executes a function call: 'print('Prime!' if is_prime(num) else 'Not Prime.')'.\n"
          ]
        }
      ]
    },
    {
      "cell_type": "code",
      "source": [],
      "metadata": {
        "id": "mDj_LRaIvHvW"
      },
      "execution_count": null,
      "outputs": []
    }
  ]
}